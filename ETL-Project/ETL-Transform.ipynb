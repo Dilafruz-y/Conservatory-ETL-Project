{
 "cells": [
  {
   "cell_type": "markdown",
   "metadata": {},
   "source": [
    "# ETL Project - Transform"
   ]
  },
  {
   "cell_type": "code",
   "execution_count": 1,
   "metadata": {},
   "outputs": [],
   "source": [
    "import pandas as pd"
   ]
  },
  {
   "cell_type": "markdown",
   "metadata": {},
   "source": [
    "## Import the following files for Transformation"
   ]
  },
  {
   "cell_type": "markdown",
   "metadata": {},
   "source": [
    "###  Netflix\n",
    "- netflix_final.csv\n",
    "- movies_revenue.csv\n",
    "\n",
    "### Budget\n",
    "- movies_num_final.csv\n",
    "- movies_budget_df.csv\n",
    "- movies_budget_df_revenue.csv"
   ]
  },
  {
   "cell_type": "markdown",
   "metadata": {},
   "source": [
    "## Step I:  Merge\n",
    "\n",
    "### Netflix\n",
    "- Merge netflix_final and movies_revenue on title: **netflix_revenu_df**\n",
    "\n",
    "\n",
    "### Budget\n",
    "- Merge movies_budget_df and movies_budget_df_revenue on id: **movies_budget_revenue_df**"
   ]
  },
  {
   "cell_type": "markdown",
   "metadata": {},
   "source": [
    "## Step II:  Clean and Wrangle\n",
    "\n",
    "\n",
    "###  **netflix_revenu_df**\n",
    "\n",
    "- Inspect dataframe\n",
    "- Check for missing values\n",
    "- Drop Nan values and not zero values !IMPORTANT\n",
    "- Convert numeric columns to numeric if necessary\n",
    "- Save to a new dataframe and export as csv\n",
    "\n",
    "###  **movies_budget_revenue_df**\n",
    "\n",
    "- Inspect dataframe\n",
    "- Check for missing values\n",
    "- Drop Nan values and not zero values !IMPORTANT\n",
    "- Remove $ and (,) in numeric columns\n",
    "- Convert numeric columns to numeric if necessary\n",
    "- Save to a new dataframe and export as csv"
   ]
  },
  {
   "cell_type": "code",
   "execution_count": null,
   "metadata": {},
   "outputs": [],
   "source": []
  }
 ],
 "metadata": {
  "kernelspec": {
   "display_name": "Python 3",
   "language": "python",
   "name": "python3"
  },
  "language_info": {
   "codemirror_mode": {
    "name": "ipython",
    "version": 3
   },
   "file_extension": ".py",
   "mimetype": "text/x-python",
   "name": "python",
   "nbconvert_exporter": "python",
   "pygments_lexer": "ipython3",
   "version": "3.6.10"
  }
 },
 "nbformat": 4,
 "nbformat_minor": 4
}
